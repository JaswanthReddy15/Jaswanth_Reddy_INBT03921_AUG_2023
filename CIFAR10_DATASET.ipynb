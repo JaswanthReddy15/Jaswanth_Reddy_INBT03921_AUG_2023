{
  "cells": [
    {
      "cell_type": "markdown",
      "metadata": {
        "id": "view-in-github",
        "colab_type": "text"
      },
      "source": [
        "<a href=\"https://colab.research.google.com/github/JaswanthReddy15/Jaswanth_Reddy_INBT03921_AUG_2023/blob/main/CIFAR10_DATASET.ipynb\" target=\"_parent\"><img src=\"https://colab.research.google.com/assets/colab-badge.svg\" alt=\"Open In Colab\"/></a>"
      ]
    },
    {
      "cell_type": "code",
      "execution_count": null,
      "metadata": {
        "id": "1FLaxCIHKxET"
      },
      "outputs": [],
      "source": [
        "import numpy as np\n",
        "import keras\n",
        "from matplotlib import pyplot as plt\n",
        "import matplotlib.pyplot as plt\n",
        "import tensorflow as tf\n",
        "import tensorflow_datasets as tfds\n",
        "from keras.datasets import cifar10\n",
        "\n",
        "from keras.models import Sequential\n",
        "from keras.optimizers import Adam\n",
        "from tensorflow.keras.utils import to_categorical\n",
        "from sklearn.metrics import classification_report\n",
        "from keras.layers import Dense,Dropout,BatchNormalization\n",
        "from keras import datasets,layers,models\n",
        "from tensorflow.keras.layers import Dense,Flatten,Conv2D,MaxPooling2D\n",
        "import os\n",
        "import tensorflow as tf\n",
        "from tensorflow.keras import datasets, layers, models\n",
        "import matplotlib.pyplot as plt\n",
        "\n",
        "from PIL import Image"
      ]
    },
    {
      "cell_type": "markdown",
      "metadata": {
        "id": "ey2W7TrjUgfi"
      },
      "source": [
        "# LOADING CIFAR-10 DATASET"
      ]
    },
    {
      "cell_type": "code",
      "execution_count": null,
      "metadata": {
        "colab": {
          "base_uri": "https://localhost:8080/"
        },
        "id": "zQJsiYMdUJEn",
        "outputId": "fcc1304a-da7c-4116-9ff8-5b0d3ce53743"
      },
      "outputs": [
        {
          "output_type": "stream",
          "name": "stdout",
          "text": [
            "Downloading data from https://www.cs.toronto.edu/~kriz/cifar-10-python.tar.gz\n",
            "170498071/170498071 [==============================] - 15s 0us/step\n"
          ]
        }
      ],
      "source": [
        "(X_train, Y_train), (X_test, Y_test) =datasets.cifar10.load_data()"
      ]
    },
    {
      "cell_type": "code",
      "execution_count": null,
      "metadata": {
        "colab": {
          "base_uri": "https://localhost:8080/"
        },
        "id": "awzPO3CEUsdK",
        "outputId": "4a3862f6-f129-4e9e-f67e-21428b32c6cc"
      },
      "outputs": [
        {
          "output_type": "execute_result",
          "data": {
            "text/plain": [
              "(50000, 32, 32, 3)"
            ]
          },
          "metadata": {},
          "execution_count": 3
        }
      ],
      "source": [
        "# training shape\n",
        "X_train.shape"
      ]
    },
    {
      "cell_type": "code",
      "execution_count": null,
      "metadata": {
        "colab": {
          "base_uri": "https://localhost:8080/"
        },
        "id": "WqzilByBVY5s",
        "outputId": "5ec01d5d-a97e-4a01-d244-430e07383538"
      },
      "outputs": [
        {
          "output_type": "execute_result",
          "data": {
            "text/plain": [
              "(10000, 32, 32, 3)"
            ]
          },
          "metadata": {},
          "execution_count": 4
        }
      ],
      "source": [
        "X_test.shape"
      ]
    },
    {
      "cell_type": "code",
      "execution_count": null,
      "metadata": {
        "colab": {
          "base_uri": "https://localhost:8080/"
        },
        "id": "0ZRNXMXoDJTX",
        "outputId": "3b7a64ac-6312-4200-8aa6-8746141ada2f"
      },
      "outputs": [
        {
          "output_type": "execute_result",
          "data": {
            "text/plain": [
              "(50000, 1)"
            ]
          },
          "metadata": {},
          "execution_count": 5
        }
      ],
      "source": [
        "Y_train.shape\n"
      ]
    },
    {
      "cell_type": "code",
      "execution_count": null,
      "metadata": {
        "colab": {
          "base_uri": "https://localhost:8080/"
        },
        "id": "Kt5IRIF6DbbA",
        "outputId": "2d024163-bd15-44b7-e328-4785c245402f"
      },
      "outputs": [
        {
          "output_type": "execute_result",
          "data": {
            "text/plain": [
              "(10000, 1)"
            ]
          },
          "metadata": {},
          "execution_count": 6
        }
      ],
      "source": [
        "Y_test.shape"
      ]
    },
    {
      "cell_type": "markdown",
      "metadata": {
        "id": "d_TEET8oOlDh"
      },
      "source": [
        "#Reshape"
      ]
    },
    {
      "cell_type": "code",
      "execution_count": null,
      "metadata": {
        "colab": {
          "base_uri": "https://localhost:8080/"
        },
        "id": "icFa1XoGOdiA",
        "outputId": "73cf1e55-5ae8-4049-e357-b11a0126ab43"
      },
      "outputs": [
        {
          "output_type": "execute_result",
          "data": {
            "text/plain": [
              "array([6, 9, 9, ..., 9, 1, 1], dtype=uint8)"
            ]
          },
          "metadata": {},
          "execution_count": 7
        }
      ],
      "source": [
        "Y_train=Y_train.reshape(-1,)\n",
        "Y_train"
      ]
    },
    {
      "cell_type": "code",
      "execution_count": null,
      "metadata": {
        "colab": {
          "base_uri": "https://localhost:8080/"
        },
        "id": "c2sgMCqPP1NS",
        "outputId": "1dc9179a-f85a-45a1-e459-39945a76db33"
      },
      "outputs": [
        {
          "output_type": "execute_result",
          "data": {
            "text/plain": [
              "10"
            ]
          },
          "metadata": {},
          "execution_count": 8
        }
      ],
      "source": [
        "classes=[\"airplane\", \"automobile\", \"bird\", \"cat\", \"deer\",\"dog\", \"frog\", \"horse\", \"ship\", \"truck\"]\n",
        "len(classes)"
      ]
    },
    {
      "cell_type": "markdown",
      "metadata": {
        "id": "9MGOI15-Rk7T"
      },
      "source": [
        "observeing  dataset"
      ]
    },
    {
      "cell_type": "code",
      "execution_count": null,
      "metadata": {
        "colab": {
          "base_uri": "https://localhost:8080/"
        },
        "id": "1AJl0X-NeG7_",
        "outputId": "359659ed-b249-47a1-cd72-94e9c219d679"
      },
      "outputs": [
        {
          "output_type": "execute_result",
          "data": {
            "text/plain": [
              "array([[[ 59,  62,  63],\n",
              "        [ 43,  46,  45],\n",
              "        [ 50,  48,  43],\n",
              "        ...,\n",
              "        [158, 132, 108],\n",
              "        [152, 125, 102],\n",
              "        [148, 124, 103]],\n",
              "\n",
              "       [[ 16,  20,  20],\n",
              "        [  0,   0,   0],\n",
              "        [ 18,   8,   0],\n",
              "        ...,\n",
              "        [123,  88,  55],\n",
              "        [119,  83,  50],\n",
              "        [122,  87,  57]],\n",
              "\n",
              "       [[ 25,  24,  21],\n",
              "        [ 16,   7,   0],\n",
              "        [ 49,  27,   8],\n",
              "        ...,\n",
              "        [118,  84,  50],\n",
              "        [120,  84,  50],\n",
              "        [109,  73,  42]],\n",
              "\n",
              "       ...,\n",
              "\n",
              "       [[208, 170,  96],\n",
              "        [201, 153,  34],\n",
              "        [198, 161,  26],\n",
              "        ...,\n",
              "        [160, 133,  70],\n",
              "        [ 56,  31,   7],\n",
              "        [ 53,  34,  20]],\n",
              "\n",
              "       [[180, 139,  96],\n",
              "        [173, 123,  42],\n",
              "        [186, 144,  30],\n",
              "        ...,\n",
              "        [184, 148,  94],\n",
              "        [ 97,  62,  34],\n",
              "        [ 83,  53,  34]],\n",
              "\n",
              "       [[177, 144, 116],\n",
              "        [168, 129,  94],\n",
              "        [179, 142,  87],\n",
              "        ...,\n",
              "        [216, 184, 140],\n",
              "        [151, 118,  84],\n",
              "        [123,  92,  72]]], dtype=uint8)"
            ]
          },
          "metadata": {},
          "execution_count": 9
        }
      ],
      "source": [
        "X_train[0]"
      ]
    },
    {
      "cell_type": "code",
      "execution_count": null,
      "metadata": {
        "colab": {
          "base_uri": "https://localhost:8080/",
          "height": 465
        },
        "id": "aD_GkYw9dHlB",
        "outputId": "973caa6e-7be6-4892-8349-4cc2e24d4121"
      },
      "outputs": [
        {
          "output_type": "execute_result",
          "data": {
            "text/plain": [
              "<Figure size 1000x200 with 0 Axes>"
            ]
          },
          "metadata": {},
          "execution_count": 10
        },
        {
          "output_type": "display_data",
          "data": {
            "text/plain": [
              "<Figure size 640x480 with 1 Axes>"
            ],
            "image/png": "[encoded data removed]"
          },
          "metadata": {}
        },
        {
          "output_type": "display_data",
          "data": {
            "text/plain": [
              "<Figure size 1000x200 with 0 Axes>"
            ]
          },
          "metadata": {}
        }
      ],
      "source": [
        "plt.imshow(X_train[1])\n",
        "plt.figure(figsize=(10,2))\n"
      ]
    },
    {
      "cell_type": "markdown",
      "metadata": {
        "id": "Aqdam_V6ZehA"
      },
      "source": [
        "# Spliting data"
      ]
    },
    {
      "cell_type": "code",
      "execution_count": null,
      "metadata": {
        "id": "GeE4T_PI-ODq"
      },
      "outputs": [],
      "source": [
        "X_train = X_train / 225.0\n",
        "X_test = X_test / 225.0\n",
        "Y_train = to_categorical(Y_train, 10)\n",
        "Y_test =  to_categorical(Y_test, 10)\n"
      ]
    },
    {
      "cell_type": "code",
      "execution_count": null,
      "metadata": {
        "colab": {
          "base_uri": "https://localhost:8080/"
        },
        "id": "Mf6E44ZeG6Re",
        "outputId": "ac4b55ba-f0bb-4129-f153-d144472b07b7"
      },
      "outputs": [
        {
          "output_type": "stream",
          "name": "stdout",
          "text": [
            "(50000, 10)\n",
            "(50000, 10)\n",
            "(10000, 10)\n"
          ]
        }
      ],
      "source": [
        "print(Y_train.shape)\n",
        "X_train_split = X_train[:50000]\n",
        "Y_train_split = Y_train[:50000]\n",
        "\n",
        "X_val= X_train[40000:]\n",
        "Y_val= Y_train[40000:]\n",
        "print(Y_train_split.shape)\n",
        "print(Y_val.shape)"
      ]
    },
    {
      "cell_type": "markdown",
      "metadata": {
        "id": "pon9HZjwS_VO"
      },
      "source": [
        "# VGG16- MODEL"
      ]
    },
    {
      "cell_type": "code",
      "execution_count": null,
      "metadata": {
        "colab": {
          "base_uri": "https://localhost:8080/"
        },
        "id": "C9i5Gkz7Mi7E",
        "outputId": "54bd7391-ed0b-41bb-bdc6-faf034634783"
      },
      "outputs": [
        {
          "output_type": "stream",
          "name": "stdout",
          "text": [
            "Epoch 1/3\n",
            "1563/1563 [==============================] - 84s 43ms/step - loss: 2.3029 - accuracy: 0.0978 - val_loss: 2.3027 - val_accuracy: 0.1000\n",
            "Epoch 2/3\n",
            "1563/1563 [==============================] - 65s 42ms/step - loss: 2.3028 - accuracy: 0.0978 - val_loss: 2.3026 - val_accuracy: 0.1000\n",
            "Epoch 3/3\n",
            "1563/1563 [==============================] - 66s 43ms/step - loss: 2.3027 - accuracy: 0.1003 - val_loss: 2.3026 - val_accuracy: 0.1000\n"
          ]
        },
        {
          "output_type": "execute_result",
          "data": {
            "text/plain": [
              "<keras.src.callbacks.History at 0x7a5a96b5b6d0>"
            ]
          },
          "metadata": {},
          "execution_count": 13
        }
      ],
      "source": [
        "from tensorflow.keras.datasets import cifar10\n",
        "from tensorflow.keras.applications import VGG19\n",
        "from tensorflow.keras.models import Model\n",
        "from tensorflow.keras.layers import Input, Flatten, Dense\n",
        "from tensorflow.keras.utils import to_categorical\n",
        "base_model = VGG19(weights=None, include_top=False, input_shape=(32, 32, 3))\n",
        "\n",
        "x = base_model.output\n",
        "x = Flatten()(x)\n",
        "x = Dense(4096, activation='relu')(x)\n",
        "x = Dense(4096, activation='relu')(x)\n",
        "predictions = Dense(10, activation='softmax')(x)\n",
        "\n",
        "model = Model(inputs=base_model.input, outputs=predictions)\n",
        "\n",
        "# Compile the model\n",
        "model.compile(optimizer='adam', loss='categorical_crossentropy', metrics=['accuracy'])\n",
        "\n",
        "# Train the model\n",
        "model.fit(X_train, Y_train, epochs=3, batch_size=32, validation_data=(X_test, Y_test))\n",
        "\n"
      ]
    },
    {
      "cell_type": "code",
      "execution_count": null,
      "metadata": {
        "id": "xsKYRZIQZ-H9",
        "colab": {
          "base_uri": "https://localhost:8080/"
        },
        "outputId": "5f09fc66-2fcd-49de-debb-b973a484e8ce"
      },
      "outputs": [
        {
          "output_type": "stream",
          "name": "stdout",
          "text": [
            "1563/1563 [==============================] - 18s 11ms/step - loss: 2.3026 - accuracy: 0.1000\n",
            "Train Accuracy: [2.3026394844055176, 0.10000000149011612]\n"
          ]
        }
      ],
      "source": [
        "#accuracy\n",
        "accuracy = model.evaluate(X_train, Y_train)\n",
        "print(f\"Train Accuracy: {accuracy}\")"
      ]
    },
    {
      "cell_type": "code",
      "execution_count": null,
      "metadata": {
        "id": "g6BjbfT6WcD_",
        "colab": {
          "base_uri": "https://localhost:8080/",
          "height": 573
        },
        "outputId": "4cfcc509-4e6a-46c0-e24d-ed3a473f71ae"
      },
      "outputs": [
        {
          "output_type": "stream",
          "name": "stdout",
          "text": [
            "Epoch 1/3\n",
            "313/313 [==============================] - 29s 85ms/step - loss: 2.3027 - accuracy: 0.0972 - val_loss: 2.3027 - val_accuracy: 0.0997\n",
            "Epoch 2/3\n",
            "313/313 [==============================] - 25s 79ms/step - loss: 2.3026 - accuracy: 0.0982 - val_loss: 2.3027 - val_accuracy: 0.0952\n",
            "Epoch 3/3\n",
            "313/313 [==============================] - 23s 74ms/step - loss: 2.3026 - accuracy: 0.1012 - val_loss: 2.3027 - val_accuracy: 0.0952\n"
          ]
        },
        {
          "output_type": "display_data",
          "data": {
            "text/plain": [
              "<Figure size 640x480 with 1 Axes>"
            ],
            "image/png": "[encoded data removed]"
          },
          "metadata": {}
        }
      ],
      "source": [
        "history=model.fit(X_train, Y_train, batch_size=128, epochs=3, validation_split=0.2)\n",
        "\n",
        "plt.plot(history.history['accuracy'])\n",
        "plt.plot(history.history['val_accuracy'])\n",
        "plt.xlabel('Epoch')\n",
        "plt.ylabel('accuracy')\n",
        "\n",
        "plt.legend(['accuracy','val_accuracy'],loc='lower right')\n",
        "losses,acc=model.evaluate(X_test,Y_test,verbose=3)\n",
        "plt.show()"
      ]
    },
    {
      "cell_type": "markdown",
      "metadata": {
        "id": "FykwMOcdTK__"
      },
      "source": [
        "# CNN MODEL"
      ]
    },
    {
      "cell_type": "code",
      "execution_count": null,
      "metadata": {
        "id": "WbhdMBnFeuMG",
        "colab": {
          "base_uri": "https://localhost:8080/"
        },
        "outputId": "ef60d1ba-d2b2-44e9-c589-c6bc1443289f"
      },
      "outputs": [
        {
          "output_type": "stream",
          "name": "stdout",
          "text": [
            "Model: \"sequential_6\"\n",
            "_________________________________________________________________\n",
            " Layer (type)                Output Shape              Param #   \n",
            "=================================================================\n",
            " conv2d_18 (Conv2D)          (None, 30, 30, 32)        896       \n",
            "                                                                 \n",
            " conv2d_19 (Conv2D)          (None, 28, 28, 64)        18496     \n",
            "                                                                 \n",
            " conv2d_20 (Conv2D)          (None, 26, 26, 64)        36928     \n",
            "                                                                 \n",
            " max_pooling2d_12 (MaxPooli  (None, 13, 13, 64)        0         \n",
            " ng2D)                                                           \n",
            "                                                                 \n",
            " max_pooling2d_13 (MaxPooli  (None, 6, 6, 64)          0         \n",
            " ng2D)                                                           \n",
            "                                                                 \n",
            " dropout_2 (Dropout)         (None, 6, 6, 64)          0         \n",
            "                                                                 \n",
            " flatten_3 (Flatten)         (None, 2304)              0         \n",
            "                                                                 \n",
            " dense_5 (Dense)             (None, 128)               295040    \n",
            "                                                                 \n",
            " dense_6 (Dense)             (None, 10)                1290      \n",
            "                                                                 \n",
            "=================================================================\n",
            "Total params: 352650 (1.35 MB)\n",
            "Trainable params: 352650 (1.35 MB)\n",
            "Non-trainable params: 0 (0.00 Byte)\n",
            "_________________________________________________________________\n"
          ]
        }
      ],
      "source": [
        "\n",
        "model=models.Sequential()\n",
        "model.add(layers.Conv2D(32,(3,3),activation='relu',input_shape=(32,32,3)))\n",
        "model.add(layers.Conv2D(64,(3,3),activation='relu'))\n",
        "model.add(layers.Conv2D(64,(3,3),activation='relu'))\n",
        "model.add(layers.MaxPooling2D((2,2)))\n",
        "model.add(layers.MaxPooling2D((2,2)))\n",
        "model.add(Dropout(0.25))\n",
        "model.add(Flatten())\n",
        "model.add(Dense(128, activation='relu'))\n",
        "model.add(Dense(10, activation='softmax'))\n",
        "model.summary()\n"
      ]
    },
    {
      "cell_type": "code",
      "execution_count": null,
      "metadata": {
        "id": "e1_BsvkPc_zL",
        "colab": {
          "base_uri": "https://localhost:8080/"
        },
        "outputId": "d28bba35-d90e-4de6-e893-dca04297729a"
      },
      "outputs": [
        {
          "output_type": "stream",
          "name": "stdout",
          "text": [
            "Epoch 1/3\n",
            "63/63 [==============================] - 3s 23ms/step - loss: 0.5272 - accuracy: 0.8145 - val_loss: 0.9762 - val_accuracy: 0.6830\n",
            "Epoch 2/3\n",
            "63/63 [==============================] - 1s 20ms/step - loss: 0.4348 - accuracy: 0.8506 - val_loss: 1.0558 - val_accuracy: 0.6705\n",
            "Epoch 3/3\n",
            "63/63 [==============================] - 1s 21ms/step - loss: 0.3748 - accuracy: 0.8717 - val_loss: 1.0802 - val_accuracy: 0.6710\n"
          ]
        },
        {
          "output_type": "execute_result",
          "data": {
            "text/plain": [
              "<keras.src.callbacks.History at 0x7a59342286d0>"
            ]
          },
          "metadata": {},
          "execution_count": 48
        }
      ],
      "source": [
        "model.compile(optimizer='adam', loss='categorical_crossentropy', metrics=['accuracy'])\n",
        "\n",
        "model.fit(X_test, Y_test, batch_size=128, epochs=3, validation_split=0.2)\n"
      ]
    },
    {
      "cell_type": "code",
      "execution_count": null,
      "metadata": {
        "id": "KJbpEszacGuh",
        "colab": {
          "base_uri": "https://localhost:8080/"
        },
        "outputId": "4180421d-d693-4b25-d1ef-8452f6141993"
      },
      "outputs": [
        {
          "output_type": "stream",
          "name": "stdout",
          "text": [
            "Epoch 1/3\n",
            "313/313 [==============================] - 6s 19ms/step - loss: 0.7479 - accuracy: 0.7393 - val_loss: 0.8166 - val_accuracy: 0.7163\n",
            "Epoch 2/3\n",
            "313/313 [==============================] - 6s 20ms/step - loss: 0.6832 - accuracy: 0.7605 - val_loss: 0.7926 - val_accuracy: 0.7260\n",
            "Epoch 3/3\n",
            "313/313 [==============================] - 6s 19ms/step - loss: 0.6263 - accuracy: 0.7808 - val_loss: 0.7945 - val_accuracy: 0.7283\n"
          ]
        }
      ],
      "source": [
        "history=model.fit(X_train, Y_train, batch_size=128, epochs=3, validation_split=0.2)\n"
      ]
    },
    {
      "cell_type": "code",
      "source": [
        "cnn_loss, cnn_accuracy = model.evaluate(X_test, Y_test)\n",
        "print(f\"CNN Model - Test Loss: {cnn_loss:.4f}\")\n",
        "print(f\"CNN Model - Test Accuracy: {cnn_accuracy*100:.2f}%\")\n"
      ],
      "metadata": {
        "colab": {
          "base_uri": "https://localhost:8080/"
        },
        "id": "u_Vti7210AVE",
        "outputId": "1ab85e5f-9e8f-4bde-eaad-215501946436"
      },
      "execution_count": null,
      "outputs": [
        {
          "output_type": "stream",
          "name": "stdout",
          "text": [
            "313/313 [==============================] - 2s 5ms/step - loss: 0.5939 - accuracy: 0.7942\n",
            "CNN Model - Test Loss: 0.5939\n",
            "CNN Model - Test Accuracy: 79.42%\n"
          ]
        }
      ]
    },
    {
      "cell_type": "markdown",
      "metadata": {
        "id": "nV1Nfnb_NgtF"
      },
      "source": [
        "# calculating Accuracy"
      ]
    },
    {
      "cell_type": "code",
      "execution_count": null,
      "metadata": {
        "id": "8aTyIht1K6xG",
        "colab": {
          "base_uri": "https://localhost:8080/"
        },
        "outputId": "489f0ec6-5d94-4e18-c7e5-295c13de8421"
      },
      "outputs": [
        {
          "output_type": "stream",
          "name": "stdout",
          "text": [
            "313/313 [==============================] - 1s 4ms/step - loss: 0.5939 - accuracy: 0.7942\n",
            "Test Accuracy: [0.5938818454742432, 0.7942000031471252, 0.5938818454742432, 0.7942000031471252, 0.5938818454742432, 0.7942000031471252, 0.5938818454742432, 0.7942000031471252, 0.5938818454742432, 0.7942000031471252, 0.5938818454742432, 0.7942000031471252, 0.5938818454742432, 0.7942000031471252, 0.5938818454742432, 0.7942000031471252, 0.5938818454742432, 0.7942000031471252, 0.5938818454742432, 0.7942000031471252, 0.5938818454742432, 0.7942000031471252, 0.5938818454742432, 0.7942000031471252, 0.5938818454742432, 0.7942000031471252, 0.5938818454742432, 0.7942000031471252, 0.5938818454742432, 0.7942000031471252, 0.5938818454742432, 0.7942000031471252, 0.5938818454742432, 0.7942000031471252, 0.5938818454742432, 0.7942000031471252, 0.5938818454742432, 0.7942000031471252, 0.5938818454742432, 0.7942000031471252, 0.5938818454742432, 0.7942000031471252, 0.5938818454742432, 0.7942000031471252, 0.5938818454742432, 0.7942000031471252, 0.5938818454742432, 0.7942000031471252, 0.5938818454742432, 0.7942000031471252, 0.5938818454742432, 0.7942000031471252, 0.5938818454742432, 0.7942000031471252, 0.5938818454742432, 0.7942000031471252, 0.5938818454742432, 0.7942000031471252, 0.5938818454742432, 0.7942000031471252, 0.5938818454742432, 0.7942000031471252, 0.5938818454742432, 0.7942000031471252, 0.5938818454742432, 0.7942000031471252, 0.5938818454742432, 0.7942000031471252, 0.5938818454742432, 0.7942000031471252, 0.5938818454742432, 0.7942000031471252, 0.5938818454742432, 0.7942000031471252, 0.5938818454742432, 0.7942000031471252, 0.5938818454742432, 0.7942000031471252, 0.5938818454742432, 0.7942000031471252, 0.5938818454742432, 0.7942000031471252, 0.5938818454742432, 0.7942000031471252, 0.5938818454742432, 0.7942000031471252, 0.5938818454742432, 0.7942000031471252, 0.5938818454742432, 0.7942000031471252, 0.5938818454742432, 0.7942000031471252, 0.5938818454742432, 0.7942000031471252, 0.5938818454742432, 0.7942000031471252, 0.5938818454742432, 0.7942000031471252, 0.5938818454742432, 0.7942000031471252, 0.5938818454742432, 0.7942000031471252, 0.5938818454742432, 0.7942000031471252, 0.5938818454742432, 0.7942000031471252, 0.5938818454742432, 0.7942000031471252, 0.5938818454742432, 0.7942000031471252, 0.5938818454742432, 0.7942000031471252, 0.5938818454742432, 0.7942000031471252, 0.5938818454742432, 0.7942000031471252, 0.5938818454742432, 0.7942000031471252, 0.5938818454742432, 0.7942000031471252, 0.5938818454742432, 0.7942000031471252, 0.5938818454742432, 0.7942000031471252, 0.5938818454742432, 0.7942000031471252, 0.5938818454742432, 0.7942000031471252, 0.5938818454742432, 0.7942000031471252, 0.5938818454742432, 0.7942000031471252, 0.5938818454742432, 0.7942000031471252, 0.5938818454742432, 0.7942000031471252, 0.5938818454742432, 0.7942000031471252, 0.5938818454742432, 0.7942000031471252, 0.5938818454742432, 0.7942000031471252, 0.5938818454742432, 0.7942000031471252, 0.5938818454742432, 0.7942000031471252, 0.5938818454742432, 0.7942000031471252, 0.5938818454742432, 0.7942000031471252, 0.5938818454742432, 0.7942000031471252, 0.5938818454742432, 0.7942000031471252, 0.5938818454742432, 0.7942000031471252, 0.5938818454742432, 0.7942000031471252, 0.5938818454742432, 0.7942000031471252, 0.5938818454742432, 0.7942000031471252, 0.5938818454742432, 0.7942000031471252, 0.5938818454742432, 0.7942000031471252, 0.5938818454742432, 0.7942000031471252, 0.5938818454742432, 0.7942000031471252, 0.5938818454742432, 0.7942000031471252, 0.5938818454742432, 0.7942000031471252, 0.5938818454742432, 0.7942000031471252, 0.5938818454742432, 0.7942000031471252, 0.5938818454742432, 0.7942000031471252, 0.5938818454742432, 0.7942000031471252, 0.5938818454742432, 0.7942000031471252, 0.5938818454742432, 0.7942000031471252, 0.5938818454742432, 0.7942000031471252, 0.5938818454742432, 0.7942000031471252, 0.5938818454742432, 0.7942000031471252, 0.5938818454742432, 0.7942000031471252, 0.5938818454742432, 0.7942000031471252, 0.5938818454742432, 0.7942000031471252, 0.5938818454742432, 0.7942000031471252]\n"
          ]
        }
      ],
      "source": [
        "accuracy = model.evaluate(X_test, Y_test)\n",
        "print(f\"Test Accuracy: {accuracy*100}\")"
      ]
    },
    {
      "cell_type": "code",
      "execution_count": null,
      "metadata": {
        "id": "8X2R9nUmMm46",
        "colab": {
          "base_uri": "https://localhost:8080/"
        },
        "outputId": "b8fc950e-9608-4ca3-a348-8928e4b52c94"
      },
      "outputs": [
        {
          "output_type": "stream",
          "name": "stdout",
          "text": [
            "313/313 [==============================] - 6s 20ms/step\n"
          ]
        }
      ],
      "source": [
        "Y_predictions=model.predict(X_test)"
      ]
    },
    {
      "cell_type": "code",
      "execution_count": null,
      "metadata": {
        "id": "RPGCTyvcNFYy",
        "colab": {
          "base_uri": "https://localhost:8080/"
        },
        "outputId": "418092bf-2b02-4644-b5f8-da3c268a32e6"
      },
      "outputs": [
        {
          "output_type": "execute_result",
          "data": {
            "text/plain": [
              "array([5.8407313e-01, 2.0364709e-05, 2.9830800e-02, 8.5717618e-02,\n",
              "       1.9535878e-01, 8.8895701e-02, 8.5800464e-05, 6.3864738e-03,\n",
              "       9.6229706e-03, 8.4811572e-06], dtype=float32)"
            ]
          },
          "metadata": {},
          "execution_count": 51
        }
      ],
      "source": [
        "Y_predictions[10]"
      ]
    },
    {
      "cell_type": "markdown",
      "source": [
        "# Confusion Matrix"
      ],
      "metadata": {
        "id": "QnpT851uoV1R"
      }
    },
    {
      "cell_type": "code",
      "execution_count": null,
      "metadata": {
        "id": "di18ma1dKp5V",
        "colab": {
          "base_uri": "https://localhost:8080/"
        },
        "outputId": "a8de54eb-c8b8-4ed4-e24e-dd39ac978592"
      },
      "outputs": [
        {
          "output_type": "stream",
          "name": "stdout",
          "text": [
            "Requirement already satisfied: confusion_matrix in /usr/local/lib/python3.10/dist-packages (0.1)\n",
            "Requirement already satisfied: nose in /usr/local/lib/python3.10/dist-packages (from confusion_matrix) (1.3.7)\n"
          ]
        }
      ],
      "source": [
        "!pip install confusion_matrix\n",
        "import confusion_matrix\n",
        "from sklearn.metrics import confusion_matrix"
      ]
    },
    {
      "cell_type": "code",
      "source": [
        "cnn_pred = model.predict(X_test)\n",
        "cnn_labels = np.argmax(Y_test, axis=1)\n",
        "cnn_pred = np.argmax(cnn_pred, axis=1)\n",
        "cnn_confusion = confusion_matrix(cnn_labels,cnn_pred)\n",
        "(\"CNN Model Confusion Matrix:\")\n",
        "(cnn_confusion)"
      ],
      "metadata": {
        "colab": {
          "base_uri": "https://localhost:8080/"
        },
        "id": "4C_uyR3Ngly6",
        "outputId": "e440f7e6-89d9-4a3f-a060-69c89860e89e"
      },
      "execution_count": null,
      "outputs": [
        {
          "output_type": "stream",
          "name": "stdout",
          "text": [
            "313/313 [==============================] - 1s 3ms/step\n"
          ]
        },
        {
          "output_type": "execute_result",
          "data": {
            "text/plain": [
              "array([[937,   3,  16,   5,   3,   2,   6,   3,   9,  16],\n",
              "       [ 10, 921,   3,   5,   1,   5,   6,   2,   3,  44],\n",
              "       [ 24,   0, 849,  21,  34,  31,  22,  13,   4,   2],\n",
              "       [ 12,   2,  32, 776,  27, 108,  28,  10,   2,   3],\n",
              "       [  6,   2,  46,  17, 873,  17,  16,  22,   1,   0],\n",
              "       [  7,   1,  20,  48,  26, 871,  10,  14,   1,   2],\n",
              "       [  6,   2,  26,  16,  12,  12, 922,   3,   0,   1],\n",
              "       [  2,   1,   9,   9,  19,  22,   2, 934,   0,   2],\n",
              "       [ 44,  13,  10,   6,   4,   4,   4,   6, 890,  19],\n",
              "       [ 14,  10,   3,   6,   2,   3,   2,   9,   4, 947]])"
            ]
          },
          "metadata": {},
          "execution_count": 97
        }
      ]
    },
    {
      "cell_type": "code",
      "source": [
        "cnn_report = classification_report(cnn_labels, cnn_pred)\n",
        "(\"CNN Model Evaluation Metrics:\")\n",
        "(cnn_report)"
      ],
      "metadata": {
        "colab": {
          "base_uri": "https://localhost:8080/",
          "height": 192
        },
        "id": "_l7vY2iRnrw0",
        "outputId": "53ff74ac-b714-4323-a314-307f8553ca6c"
      },
      "execution_count": null,
      "outputs": [
        {
          "output_type": "execute_result",
          "data": {
            "text/plain": [
              "'              precision    recall  f1-score   support\\n\\n           0       0.88      0.94      0.91      1000\\n           1       0.96      0.92      0.94      1000\\n           2       0.84      0.85      0.84      1000\\n           3       0.85      0.78      0.81      1000\\n           4       0.87      0.87      0.87      1000\\n           5       0.81      0.87      0.84      1000\\n           6       0.91      0.92      0.91      1000\\n           7       0.92      0.93      0.93      1000\\n           8       0.97      0.89      0.93      1000\\n           9       0.91      0.95      0.93      1000\\n\\n    accuracy                           0.89     10000\\n   macro avg       0.89      0.89      0.89     10000\\nweighted avg       0.89      0.89      0.89     10000\\n'"
            ],
            "application/vnd.google.colaboratory.intrinsic+json": {
              "type": "string"
            }
          },
          "metadata": {},
          "execution_count": 95
        }
      ]
    },
    {
      "cell_type": "code",
      "source": [
        "plt.figure(figsize=(8, 6))\n",
        "plt.imshow(cnn_confusion, cmap='gist_ncar')\n",
        "plt.title('CNN Model Confusion Matrix')\n",
        "plt.colorbar()\n",
        "plt.xticks(np.arange(10))\n",
        "plt.yticks(np.arange(10))\n",
        "plt.show()"
      ],
      "metadata": {
        "colab": {
          "base_uri": "https://localhost:8080/",
          "height": 545
        },
        "id": "VYP8ZoFPdX7E",
        "outputId": "851f7545-a119-45d8-d3dd-8c8bede7e4b1"
      },
      "execution_count": null,
      "outputs": [
        {
          "output_type": "display_data",
          "data": {
            "text/plain": [
              "<Figure size 800x600 with 2 Axes>"
            ],
            "image/png": "[encoded data removed]"
          },
          "metadata": {}
        }
      ]
    },
    {
      "cell_type": "markdown",
      "metadata": {
        "id": "MGEb9lkJhslu"
      },
      "source": [
        "# TRANSFER LEARNING"
      ]
    },
    {
      "cell_type": "code",
      "execution_count": null,
      "metadata": {
        "id": "ZI9rPgsadr4w",
        "colab": {
          "base_uri": "https://localhost:8080/"
        },
        "outputId": "dc33e824-4be7-42f9-c8d0-05d03f21bc48"
      },
      "outputs": [
        {
          "output_type": "stream",
          "name": "stdout",
          "text": [
            "Epoch 1/3\n",
            "313/313 [==============================] - 27s 68ms/step - loss: 2.3031 - accuracy: 0.1006 - val_loss: 2.3027 - val_accuracy: 0.0977\n",
            "Epoch 2/3\n",
            "313/313 [==============================] - 20s 65ms/step - loss: 2.3031 - accuracy: 0.0973 - val_loss: 2.3027 - val_accuracy: 0.0980\n",
            "Epoch 3/3\n",
            "313/313 [==============================] - 20s 65ms/step - loss: 2.3030 - accuracy: 0.0990 - val_loss: 2.3035 - val_accuracy: 0.0952\n"
          ]
        },
        {
          "output_type": "execute_result",
          "data": {
            "text/plain": [
              "<keras.src.callbacks.History at 0x7a595c449000>"
            ]
          },
          "metadata": {},
          "execution_count": 136
        }
      ],
      "source": [
        "transfer_model = Sequential()\n",
        "transfer_model.add(base_model)\n",
        "transfer_model.add(Flatten())\n",
        "transfer_model.add(Dense(256, activation='relu'))\n",
        "\n",
        "transfer_model.add(Dense(10, activation='softmax'))\n",
        "lr=0.005\n",
        "transfer_model.compile(optimizer=Adam(learning_rate=lr), loss='categorical_crossentropy', metrics=['accuracy'])\n",
        "transfer_model.fit(X_train, Y_train, batch_size=128, epochs=3, validation_split=0.2)\n"
      ]
    },
    {
      "cell_type": "code",
      "execution_count": null,
      "metadata": {
        "id": "LFt9JzD3iIZL",
        "colab": {
          "base_uri": "https://localhost:8080/"
        },
        "outputId": "34573cae-08d9-4342-b256-48c191231725"
      },
      "outputs": [
        {
          "output_type": "stream",
          "name": "stdout",
          "text": [
            "313/313 [==============================] - 3s 11ms/step - loss: 2.3030 - accuracy: 0.1000\n",
            "Transfer Learning Model - Test Loss: 2.3030\n",
            "Transfer Learning Model - Test Accuracy: 10.00%\n"
          ]
        }
      ],
      "source": [
        "transfer_loss, transfer_accuracy = transfer_model.evaluate(X_test, Y_test)\n",
        "print(f\"Transfer Learning Model - Test Loss: {transfer_loss:.4f}\")\n",
        "print(f\"Transfer Learning Model - Test Accuracy: {transfer_accuracy*100:.2f}%\")\n"
      ]
    },
    {
      "cell_type": "code",
      "source": [
        "transfer_pred = transfer_model.predict(X_test)\n",
        "transfer_labels = np.argmax(Y_test, axis=1)\n",
        "transfer_pred = np.argmax(transfer_pred, axis=1)"
      ],
      "metadata": {
        "colab": {
          "base_uri": "https://localhost:8080/"
        },
        "id": "rNEr9H0olBGE",
        "outputId": "aa0626c6-049e-47f4-81da-5dc8f670c427"
      },
      "execution_count": null,
      "outputs": [
        {
          "output_type": "stream",
          "name": "stdout",
          "text": [
            "313/313 [==============================] - 3s 9ms/step\n"
          ]
        }
      ]
    },
    {
      "cell_type": "code",
      "execution_count": null,
      "metadata": {
        "id": "aAM3vp4biQ5P",
        "colab": {
          "base_uri": "https://localhost:8080/"
        },
        "outputId": "ea210240-430c-4da7-c840-f8222d178133"
      },
      "outputs": [
        {
          "output_type": "stream",
          "name": "stdout",
          "text": [
            "Transfer Learning Model Evaluation Metrics:\n",
            "              precision    recall  f1-score   support\n",
            "\n",
            "           0       0.00      0.00      0.00      1000\n",
            "           1       0.00      0.00      0.00      1000\n",
            "           2       0.10      1.00      0.18      1000\n",
            "           3       0.00      0.00      0.00      1000\n",
            "           4       0.00      0.00      0.00      1000\n",
            "           5       0.00      0.00      0.00      1000\n",
            "           6       0.00      0.00      0.00      1000\n",
            "           7       0.00      0.00      0.00      1000\n",
            "           8       0.00      0.00      0.00      1000\n",
            "           9       0.00      0.00      0.00      1000\n",
            "\n",
            "    accuracy                           0.10     10000\n",
            "   macro avg       0.01      0.10      0.02     10000\n",
            "weighted avg       0.01      0.10      0.02     10000\n",
            "\n"
          ]
        },
        {
          "output_type": "stream",
          "name": "stderr",
          "text": [
            "/usr/local/lib/python3.10/dist-packages/sklearn/metrics/_classification.py:1344: UndefinedMetricWarning: Precision and F-score are ill-defined and being set to 0.0 in labels with no predicted samples. Use `zero_division` parameter to control this behavior.\n",
            "  _warn_prf(average, modifier, msg_start, len(result))\n",
            "/usr/local/lib/python3.10/dist-packages/sklearn/metrics/_classification.py:1344: UndefinedMetricWarning: Precision and F-score are ill-defined and being set to 0.0 in labels with no predicted samples. Use `zero_division` parameter to control this behavior.\n",
            "  _warn_prf(average, modifier, msg_start, len(result))\n",
            "/usr/local/lib/python3.10/dist-packages/sklearn/metrics/_classification.py:1344: UndefinedMetricWarning: Precision and F-score are ill-defined and being set to 0.0 in labels with no predicted samples. Use `zero_division` parameter to control this behavior.\n",
            "  _warn_prf(average, modifier, msg_start, len(result))\n"
          ]
        }
      ],
      "source": [
        "transfer_report = classification_report(transfer_labels, transfer_pred)\n",
        "transfer_confusion = confusion_matrix(transfer_labels, transfer_pred)\n",
        "print(\"Transfer Learning Model Evaluation Metrics:\")\n",
        "print(transfer_report)\n"
      ]
    },
    {
      "cell_type": "code",
      "source": [
        "print(\"Transfer Learning Model Confusion Matrix:\")\n",
        "print(transfer_confusion)"
      ],
      "metadata": {
        "colab": {
          "base_uri": "https://localhost:8080/"
        },
        "id": "1xxf8mC2lXZw",
        "outputId": "60e66b12-c098-409c-88de-0c991554ee27"
      },
      "execution_count": null,
      "outputs": [
        {
          "output_type": "stream",
          "name": "stdout",
          "text": [
            "Transfer Learning Model Confusion Matrix:\n",
            "[[   0    0 1000    0    0    0    0    0    0    0]\n",
            " [   0    0 1000    0    0    0    0    0    0    0]\n",
            " [   0    0 1000    0    0    0    0    0    0    0]\n",
            " [   0    0 1000    0    0    0    0    0    0    0]\n",
            " [   0    0 1000    0    0    0    0    0    0    0]\n",
            " [   0    0 1000    0    0    0    0    0    0    0]\n",
            " [   0    0 1000    0    0    0    0    0    0    0]\n",
            " [   0    0 1000    0    0    0    0    0    0    0]\n",
            " [   0    0 1000    0    0    0    0    0    0    0]\n",
            " [   0    0 1000    0    0    0    0    0    0    0]]\n"
          ]
        }
      ]
    },
    {
      "cell_type": "code",
      "source": [
        "plt.figure(figsize=(5, 4))\n",
        "plt.imshow(transfer_confusion, cmap='gist_ncar')\n",
        "plt.title('Transfer Learning Model Confusion Matrix')\n",
        "plt.colorbar()\n",
        "\n",
        "plt.xticks(np.arange(10))\n",
        "plt.yticks(np.arange(10))\n",
        "plt.show()"
      ],
      "metadata": {
        "colab": {
          "base_uri": "https://localhost:8080/",
          "height": 391
        },
        "id": "20h-1yMcsEs1",
        "outputId": "4d1d47dc-fdfb-4e42-99be-9b9df6ce6b37"
      },
      "execution_count": null,
      "outputs": [
        {
          "output_type": "display_data",
          "data": {
            "text/plain": [
              "<Figure size 500x400 with 2 Axes>"
            ],
            "image/png": "[encoded data removed]"
          },
          "metadata": {}
        }
      ]
    }
  ],
  "metadata": {
    "colab": {
      "provenance": [],
      "gpuType": "T4",
      "authorship_tag": "ABX9TyP670Hz31J464ujdVRqCtnd",
      "include_colab_link": true
    },
    "kernelspec": {
      "display_name": "Python 3",
      "name": "python3"
    },
    "language_info": {
      "name": "python"
    },
    "accelerator": "GPU"
  },
  "nbformat": 4,
  "nbformat_minor": 0
}